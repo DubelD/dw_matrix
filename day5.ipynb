{
  "nbformat": 4,
  "nbformat_minor": 0,
  "metadata": {
    "colab": {
      "name": "day5.ipynb",
      "provenance": [],
      "mount_file_id": "1HWd99c8PAeFJoD4Gn49_oiaEm4KLqCUW",
      "authorship_tag": "ABX9TyOYHgygKTXGt7d+2BWtyMW3"
    },
    "kernelspec": {
      "name": "python3",
      "display_name": "Python 3"
    },
    "accelerator": "GPU"
  },
  "cells": [
    {
      "cell_type": "code",
      "metadata": {
        "id": "b0riny9YO8CH",
        "colab_type": "code",
        "colab": {
          "base_uri": "https://localhost:8080/",
          "height": 170
        },
        "outputId": "1ce1adb0-a167-4d1a-c43b-8c93fe4014f0"
      },
      "source": [
        "!pip install hyperopt"
      ],
      "execution_count": 2,
      "outputs": [
        {
          "output_type": "stream",
          "text": [
            "Requirement already satisfied: hyperopt in /usr/local/lib/python3.6/dist-packages (0.1.2)\n",
            "Requirement already satisfied: numpy in /usr/local/lib/python3.6/dist-packages (from hyperopt) (1.18.2)\n",
            "Requirement already satisfied: scipy in /usr/local/lib/python3.6/dist-packages (from hyperopt) (1.4.1)\n",
            "Requirement already satisfied: tqdm in /usr/local/lib/python3.6/dist-packages (from hyperopt) (4.38.0)\n",
            "Requirement already satisfied: future in /usr/local/lib/python3.6/dist-packages (from hyperopt) (0.16.0)\n",
            "Requirement already satisfied: pymongo in /usr/local/lib/python3.6/dist-packages (from hyperopt) (3.10.1)\n",
            "Requirement already satisfied: networkx in /usr/local/lib/python3.6/dist-packages (from hyperopt) (2.4)\n",
            "Requirement already satisfied: six in /usr/local/lib/python3.6/dist-packages (from hyperopt) (1.12.0)\n",
            "Requirement already satisfied: decorator>=4.3.0 in /usr/local/lib/python3.6/dist-packages (from networkx->hyperopt) (4.4.2)\n"
          ],
          "name": "stdout"
        }
      ]
    },
    {
      "cell_type": "code",
      "metadata": {
        "id": "ya2dCMgjPcMU",
        "colab_type": "code",
        "colab": {
          "base_uri": "https://localhost:8080/",
          "height": 51
        },
        "outputId": "bc421fda-3d87-4821-a02a-c5db05dbeffd"
      },
      "source": [
        "import pandas as pd\n",
        "import numpy as np\n",
        "import os\n",
        "import datetime\n",
        "\n",
        "import tensorflow as tf\n",
        "from tensorflow.keras.models import  Sequential\n",
        "from tensorflow.keras.layers import Conv2D, MaxPool2D, Dense, Flatten, Dropout\n",
        "from tensorflow.keras.utils import to_categorical\n",
        "\n",
        "%load_ext tensorboard\n",
        "\n",
        "import matplotlib.pyplot as plt\n",
        "from skimage import color, exposure\n",
        "\n",
        "from sklearn.metrics import accuracy_score\n",
        "\n",
        "from hyperopt import hp, STATUS_OK, tpe, Trials, fmin"
      ],
      "execution_count": 3,
      "outputs": [
        {
          "output_type": "stream",
          "text": [
            "The tensorboard extension is already loaded. To reload it, use:\n",
            "  %reload_ext tensorboard\n"
          ],
          "name": "stdout"
        }
      ]
    },
    {
      "cell_type": "code",
      "metadata": {
        "id": "0ifdca62PdZP",
        "colab_type": "code",
        "colab": {
          "base_uri": "https://localhost:8080/",
          "height": 34
        },
        "outputId": "ce860edf-7617-4121-f9e3-6e03373a374f"
      },
      "source": [
        "cd '/content/drive/My Drive/Colab Notebooks/dw_matrix/matrix_three/dw_matrix_road_sign'"
      ],
      "execution_count": 4,
      "outputs": [
        {
          "output_type": "stream",
          "text": [
            "/content/drive/My Drive/Colab Notebooks/dw_matrix/matrix_three/dw_matrix_road_sign\n"
          ],
          "name": "stdout"
        }
      ]
    },
    {
      "cell_type": "code",
      "metadata": {
        "id": "KR1k4DcTPiln",
        "colab_type": "code",
        "colab": {}
      },
      "source": [
        "train = pd.read_pickle('data/train.p')\n",
        "test = pd.read_pickle('data/test.p')\n",
        "\n",
        "X_train, y_train = train['features'], train['labels']\n",
        "X_test, y_test = test['features'], test['labels']"
      ],
      "execution_count": 0,
      "outputs": []
    },
    {
      "cell_type": "code",
      "metadata": {
        "id": "OXEOYxeZPxXR",
        "colab_type": "code",
        "colab": {}
      },
      "source": [
        "if y_train.ndim == 1: y_train = to_categorical(y_train)\n",
        "if y_test.ndim == 1: y_test = to_categorical(y_test)"
      ],
      "execution_count": 0,
      "outputs": []
    },
    {
      "cell_type": "code",
      "metadata": {
        "id": "c5zM9nCkQXp3",
        "colab_type": "code",
        "colab": {}
      },
      "source": [
        "input_shape = X_train.shape[1:]\n",
        "num_class = y_train.shape[1]"
      ],
      "execution_count": 0,
      "outputs": []
    },
    {
      "cell_type": "code",
      "metadata": {
        "id": "nfV-Tzz3P32y",
        "colab_type": "code",
        "colab": {}
      },
      "source": [
        "def train_model(model, X_train, y_train, params_fit={}):\n",
        "  model.compile(loss='categorical_crossentropy', optimizer='Adam',metrics=['accuracy'])\n",
        "\n",
        "  logdir = os.path.join(\"logs\", datetime.datetime.now().strftime(\"%Y%m%d-%H%M%S\"))\n",
        "  tensorboard_callback = tf.keras.callbacks.TensorBoard(logdir, histogram_freq=1)\n",
        "  \n",
        "  model.fit(X_train,\n",
        "            y_train,\n",
        "            batch_size=params_fit.get('batch_size', 128),\n",
        "            epochs=params_fit.get('epochs', 5),\n",
        "            verbose=params_fit.get('verbose', 1),\n",
        "            validation_data=params_fit.get('validation_data', (X_train, y_train)),\n",
        "            callbacks= [tensorboard_callback]\n",
        "  )\n",
        "  return model"
      ],
      "execution_count": 0,
      "outputs": []
    },
    {
      "cell_type": "code",
      "metadata": {
        "id": "1qy6y13fP0oa",
        "colab_type": "code",
        "colab": {}
      },
      "source": [
        "def predict(model_trained, X_test, y_test, scoring=accuracy_score):\n",
        "  y_test_norm = np.argmax( y_test, axis=1)\n",
        "\n",
        "  y_pred_prob = model_trained.predict(X_test)\n",
        "  y_pred = np.argmax( y_pred_prob, axis=1)\n",
        "\n",
        "  return scoring(y_test_norm, y_pred)"
      ],
      "execution_count": 0,
      "outputs": []
    },
    {
      "cell_type": "code",
      "metadata": {
        "id": "vsT7lCD1P-kH",
        "colab_type": "code",
        "colab": {}
      },
      "source": [
        "def get_cnn_v5(input_shape, num_class):\n",
        "  return Sequential([            \n",
        "       Conv2D(filters=32, kernel_size=(3, 3), activation='relu', input_shape=input_shape),\n",
        "       Conv2D(filters=32, kernel_size=(3, 3), activation='relu', padding='same'),\n",
        "       Conv2D(filters=32, kernel_size=(3, 3), activation='relu', padding='same'),\n",
        "       MaxPool2D(),\n",
        "       Dropout(0.3),\n",
        "       \n",
        "       Conv2D(filters=64, kernel_size=(3, 3), activation='relu', padding='same'),\n",
        "       Conv2D(filters=64, kernel_size=(3, 3), activation='relu', padding='same'),\n",
        "       Conv2D(filters=64, kernel_size=(3, 3), activation='relu'),\n",
        "       MaxPool2D(),\n",
        "       Dropout(0.3),\n",
        "\n",
        "       Conv2D(filters=128, kernel_size=(3, 3), activation='relu', padding='same'),\n",
        "       Conv2D(filters=128, kernel_size=(3, 3), activation='relu', padding='same'),\n",
        "       Conv2D(filters=128, kernel_size=(3, 3), activation='relu'),\n",
        "       MaxPool2D(),\n",
        "       Dropout(0.3),\n",
        "\n",
        "       Flatten(),\n",
        "\n",
        "       Dense (1024, activation='relu'),\n",
        "       Dropout(0.3),\n",
        "\n",
        "       Dense (1024, activation='relu'),\n",
        "       Dropout(0.3),\n",
        "\n",
        "       Dense (num_class, activation='softmax')          \n",
        "])"
      ],
      "execution_count": 0,
      "outputs": []
    },
    {
      "cell_type": "code",
      "metadata": {
        "id": "7t562ws-QB6-",
        "colab_type": "code",
        "colab": {
          "base_uri": "https://localhost:8080/",
          "height": 204
        },
        "outputId": "d743d58a-e59b-4cf3-f539-e3c5c6eff4e1"
      },
      "source": [
        "model = get_cnn_v5(input_shape, num_class)          \n",
        "model_trained = train_model(model, X_train, y_train)\n",
        "predict(model_trained, X_test, y_test)"
      ],
      "execution_count": 11,
      "outputs": [
        {
          "output_type": "stream",
          "text": [
            "Epoch 1/5\n",
            "272/272 [==============================] - 9s 34ms/step - loss: 2.3992 - accuracy: 0.3266 - val_loss: 0.8061 - val_accuracy: 0.7609\n",
            "Epoch 2/5\n",
            "272/272 [==============================] - 9s 32ms/step - loss: 0.5793 - accuracy: 0.8130 - val_loss: 0.1541 - val_accuracy: 0.9444\n",
            "Epoch 3/5\n",
            "272/272 [==============================] - 9s 32ms/step - loss: 0.2284 - accuracy: 0.9317 - val_loss: 0.0509 - val_accuracy: 0.9848\n",
            "Epoch 4/5\n",
            "272/272 [==============================] - 9s 32ms/step - loss: 0.1584 - accuracy: 0.9533 - val_loss: 0.0379 - val_accuracy: 0.9895\n",
            "Epoch 5/5\n",
            "272/272 [==============================] - 9s 32ms/step - loss: 0.1194 - accuracy: 0.9659 - val_loss: 0.0335 - val_accuracy: 0.9901\n"
          ],
          "name": "stdout"
        },
        {
          "output_type": "execute_result",
          "data": {
            "text/plain": [
              "0.9682539682539683"
            ]
          },
          "metadata": {
            "tags": []
          },
          "execution_count": 11
        }
      ]
    },
    {
      "cell_type": "code",
      "metadata": {
        "id": "rZowk1e4QEqO",
        "colab_type": "code",
        "colab": {}
      },
      "source": [
        "def get_model(params):\n",
        "  return Sequential([            \n",
        "       Conv2D(filters=32, kernel_size=(3, 3), activation='relu', input_shape=input_shape),\n",
        "       Conv2D(filters=32, kernel_size=(3, 3), activation='relu', padding='same'),\n",
        "       Conv2D(filters=32, kernel_size=(3, 3), activation='relu', padding='same'),\n",
        "\n",
        "       MaxPool2D(),\n",
        "       Dropout(params['dropout_cnn_block_one']),\n",
        "       \n",
        "       Conv2D(filters=64, kernel_size=(3, 3), activation='relu', padding='same'),\n",
        "       Conv2D(filters=64, kernel_size=(3, 3), activation='relu', padding='same'),\n",
        "       Conv2D(filters=64, kernel_size=(3, 3), activation='relu'),\n",
        "       MaxPool2D(),\n",
        "       Dropout(params['dropout_cnn_block_two']),\n",
        "\n",
        "       Conv2D(filters=128, kernel_size=(3, 3), activation='relu', padding='same'),\n",
        "       Conv2D(filters=128, kernel_size=(3, 3), activation='relu', padding='same'),\n",
        "       Conv2D(filters=128, kernel_size=(3, 3), activation='relu'),\n",
        "       MaxPool2D(),\n",
        "       Dropout(params['dropout_cnn_block_three']),\n",
        "\n",
        "       Flatten(),\n",
        "\n",
        "       Dense (1024, activation='relu'),\n",
        "       Dropout(params['dropout_dense_block_one']),\n",
        "\n",
        "       Dense (1024, activation='relu'),\n",
        "       Dropout(params['dropout_dense_block_two']),\n",
        "\n",
        "       Dense (num_class, activation='softmax')          \n",
        "])"
      ],
      "execution_count": 0,
      "outputs": []
    },
    {
      "cell_type": "code",
      "metadata": {
        "id": "pBc1yRpCRR6s",
        "colab_type": "code",
        "colab": {}
      },
      "source": [
        "def func_obj(params):\n",
        "  model = get_model(params)\n",
        "  model.compile(loss='categorical_crossentropy', optimizer='Adam',metrics=['accuracy'])\n",
        " \n",
        "  model.fit(X_train,\n",
        "            y_train,\n",
        "            batch_size=int(params.get('batch_size', 128)),\n",
        "            epochs=5,\n",
        "            verbose=0,\n",
        "            \n",
        "      )\n",
        "  score = model.evaluate(X_test, y_test, verbose=0)\n",
        "  accuracy = score[1]\n",
        "  print(params, 'accuracy={}'.format(accuracy))\n",
        "\n",
        "  return {'loss': -accuracy, 'status': STATUS_OK, 'model':model} "
      ],
      "execution_count": 0,
      "outputs": []
    },
    {
      "cell_type": "code",
      "metadata": {
        "id": "rGaUqpHeRYXI",
        "colab_type": "code",
        "colab": {
          "base_uri": "https://localhost:8080/",
          "height": 1000
        },
        "outputId": "e587c09c-f9f4-45a6-dd41-126e7ce79547"
      },
      "source": [
        "space = {\n",
        "    'batch size': hp.quniform('batch_size', 100, 200, 10),\n",
        "    'dropout_cnn_block_one': hp.uniform('dropout_cnn_block_one', 0.3, 0.5),\n",
        "    'dropout_cnn_block_two': hp.uniform('dropout_cnn_block_two', 0.3, 0.5),\n",
        "    'dropout_cnn_block_three': hp.uniform('dropout_cnn_block_three', 0.3, 0.5),\n",
        "    \n",
        "    'dropout_dense_block_one': hp.uniform('dropout_dense_block_one', 0.3, 0.7),\n",
        "    'dropout_dense_block_two': hp.uniform('dropout_dense_block_two', 0.3, 0.7),\n",
        "}\n",
        "\n",
        "best = fmin(\n",
        "    func_obj,\n",
        "    space,\n",
        "    tpe.suggest,\n",
        "    30,\n",
        "    Trials()\n",
        ")"
      ],
      "execution_count": 14,
      "outputs": [
        {
          "output_type": "stream",
          "text": [
            "{'batch size': 200.0, 'dropout_cnn_block_one': 0.48193110763179875, 'dropout_cnn_block_three': 0.3367164668796256, 'dropout_cnn_block_two': 0.36695231279363855, 'dropout_dense_block_one': 0.6193772970581193, 'dropout_dense_block_two': 0.5825531236232272}\n",
            "accuracy=0.9607709646224976\n",
            "{'batch size': 170.0, 'dropout_cnn_block_one': 0.47224279678219416, 'dropout_cnn_block_three': 0.493920455920829, 'dropout_cnn_block_two': 0.4808505549307221, 'dropout_dense_block_one': 0.5768283770240008, 'dropout_dense_block_two': 0.31650512449725227}\n",
            "accuracy=0.9113378524780273\n",
            "{'batch size': 180.0, 'dropout_cnn_block_one': 0.4145289245659869, 'dropout_cnn_block_three': 0.4024781775153688, 'dropout_cnn_block_two': 0.44237650123557826, 'dropout_dense_block_one': 0.42031135396982955, 'dropout_dense_block_two': 0.40108144428630577}\n",
            "accuracy=0.9625850319862366\n",
            "{'batch size': 130.0, 'dropout_cnn_block_one': 0.45764557446146104, 'dropout_cnn_block_three': 0.4534530505035177, 'dropout_cnn_block_two': 0.4356978592118004, 'dropout_dense_block_one': 0.4544353869694999, 'dropout_dense_block_two': 0.41149977679545724}\n",
            "accuracy=0.9306122660636902\n",
            "{'batch size': 190.0, 'dropout_cnn_block_one': 0.42102278972715024, 'dropout_cnn_block_three': 0.35104466807989676, 'dropout_cnn_block_two': 0.31527649388707873, 'dropout_dense_block_one': 0.5411662539137554, 'dropout_dense_block_two': 0.3361628459623496}\n",
            "accuracy=0.9446712136268616\n",
            "{'batch size': 200.0, 'dropout_cnn_block_one': 0.4301087205277978, 'dropout_cnn_block_three': 0.31557089251660403, 'dropout_cnn_block_two': 0.4373194062530993, 'dropout_dense_block_one': 0.5775428211092195, 'dropout_dense_block_two': 0.6405501779853751}\n",
            "accuracy=0.96417236328125\n",
            "{'batch size': 110.0, 'dropout_cnn_block_one': 0.3909744056387955, 'dropout_cnn_block_three': 0.47269017550268694, 'dropout_cnn_block_two': 0.3719806047837042, 'dropout_dense_block_one': 0.5603750492436452, 'dropout_dense_block_two': 0.4949141958579585}\n",
            "accuracy=0.9609977602958679\n",
            "{'batch size': 160.0, 'dropout_cnn_block_one': 0.45283054676738677, 'dropout_cnn_block_three': 0.47495183590714063, 'dropout_cnn_block_two': 0.31704224107958323, 'dropout_dense_block_one': 0.6850562518061356, 'dropout_dense_block_two': 0.5014362708760465}\n",
            "accuracy=0.9741496443748474\n",
            "{'batch size': 180.0, 'dropout_cnn_block_one': 0.46410219039732103, 'dropout_cnn_block_three': 0.46753421630450054, 'dropout_cnn_block_two': 0.38922592827268254, 'dropout_dense_block_one': 0.6574714291763049, 'dropout_dense_block_two': 0.3357749667847907}\n",
            "accuracy=0.9678004384040833\n",
            "{'batch size': 130.0, 'dropout_cnn_block_one': 0.3646369776142764, 'dropout_cnn_block_three': 0.40177653164089344, 'dropout_cnn_block_two': 0.40044710855907095, 'dropout_dense_block_one': 0.587012585591885, 'dropout_dense_block_two': 0.30680533334110993}\n",
            "accuracy=0.9648526310920715\n",
            "{'batch size': 120.0, 'dropout_cnn_block_one': 0.3664454496162215, 'dropout_cnn_block_three': 0.314722555137623, 'dropout_cnn_block_two': 0.46692090621696625, 'dropout_dense_block_one': 0.4996626372054891, 'dropout_dense_block_two': 0.514391671277853}\n",
            "accuracy=0.9714285731315613\n",
            "{'batch size': 150.0, 'dropout_cnn_block_one': 0.38662830334785375, 'dropout_cnn_block_three': 0.4316263604823242, 'dropout_cnn_block_two': 0.45903910107367984, 'dropout_dense_block_one': 0.604375889745607, 'dropout_dense_block_two': 0.45451163464809585}\n",
            "accuracy=0.942630410194397\n",
            "{'batch size': 140.0, 'dropout_cnn_block_one': 0.355456925954875, 'dropout_cnn_block_three': 0.4470542157529269, 'dropout_cnn_block_two': 0.4893582861538192, 'dropout_dense_block_one': 0.4131670472355631, 'dropout_dense_block_two': 0.47206695262767795}\n",
            "accuracy=0.9668934345245361\n",
            "{'batch size': 100.0, 'dropout_cnn_block_one': 0.38468238224789825, 'dropout_cnn_block_three': 0.3702606891869854, 'dropout_cnn_block_two': 0.41359078521474985, 'dropout_dense_block_one': 0.43514965144745116, 'dropout_dense_block_two': 0.46815798198450675}\n",
            "accuracy=0.962358295917511\n",
            "{'batch size': 170.0, 'dropout_cnn_block_one': 0.3427581207423763, 'dropout_cnn_block_three': 0.3140330614074414, 'dropout_cnn_block_two': 0.31533081834583654, 'dropout_dense_block_one': 0.3199700536196191, 'dropout_dense_block_two': 0.5444529292201756}\n",
            "accuracy=0.956916093826294\n",
            "{'batch size': 150.0, 'dropout_cnn_block_one': 0.47464257071977395, 'dropout_cnn_block_three': 0.45338504479675823, 'dropout_cnn_block_two': 0.4681803951942011, 'dropout_dense_block_one': 0.5573255321243284, 'dropout_dense_block_two': 0.4240876184038943}\n",
            "accuracy=0.9145124554634094\n",
            "{'batch size': 100.0, 'dropout_cnn_block_one': 0.3232112342915162, 'dropout_cnn_block_three': 0.345347792676108, 'dropout_cnn_block_two': 0.3204557357243978, 'dropout_dense_block_one': 0.3049513360954324, 'dropout_dense_block_two': 0.6189669831976781}\n",
            "accuracy=0.9727891087532043\n",
            "{'batch size': 170.0, 'dropout_cnn_block_one': 0.34382030864529584, 'dropout_cnn_block_three': 0.34147526139575096, 'dropout_cnn_block_two': 0.3984567533584269, 'dropout_dense_block_one': 0.3121705351695872, 'dropout_dense_block_two': 0.6184281759646763}\n",
            "accuracy=0.962358295917511\n",
            "{'batch size': 140.0, 'dropout_cnn_block_one': 0.4099926665761908, 'dropout_cnn_block_three': 0.4567734079566988, 'dropout_cnn_block_two': 0.3831307707503126, 'dropout_dense_block_one': 0.6027122322303072, 'dropout_dense_block_two': 0.6511954057979068}\n",
            "accuracy=0.9190475940704346\n",
            "{'batch size': 120.0, 'dropout_cnn_block_one': 0.319371724282648, 'dropout_cnn_block_three': 0.31476800622445594, 'dropout_cnn_block_two': 0.44756881384904523, 'dropout_dense_block_one': 0.48187055450181604, 'dropout_dense_block_two': 0.6850990862771198}\n",
            "accuracy=0.9700680375099182\n",
            "{'batch size': 160.0, 'dropout_cnn_block_one': 0.30521827830865744, 'dropout_cnn_block_three': 0.37995242127652007, 'dropout_cnn_block_two': 0.3440141227233556, 'dropout_dense_block_one': 0.3577924777074107, 'dropout_dense_block_two': 0.5646596384754767}\n",
            "accuracy=0.9752834439277649\n",
            "{'batch size': 160.0, 'dropout_cnn_block_one': 0.4978829538733041, 'dropout_cnn_block_three': 0.421458360957254, 'dropout_cnn_block_two': 0.3438043281582688, 'dropout_dense_block_one': 0.36556660482673176, 'dropout_dense_block_two': 0.5589899700180307}\n",
            "accuracy=0.9578231573104858\n",
            "{'batch size': 160.0, 'dropout_cnn_block_one': 0.4376567690497253, 'dropout_cnn_block_three': 0.3808540820023732, 'dropout_cnn_block_two': 0.33963281717321553, 'dropout_dense_block_one': 0.6672568642862486, 'dropout_dense_block_two': 0.5248698191747505}\n",
            "accuracy=0.9371882081031799\n",
            "{'batch size': 160.0, 'dropout_cnn_block_one': 0.30073002658768994, 'dropout_cnn_block_three': 0.37979399703631694, 'dropout_cnn_block_two': 0.30063615197829485, 'dropout_dense_block_one': 0.3891267311823176, 'dropout_dense_block_two': 0.573115864541926}\n",
            "accuracy=0.9775510430335999\n",
            "{'batch size': 180.0, 'dropout_cnn_block_one': 0.3054359703891946, 'dropout_cnn_block_three': 0.3785320602032043, 'dropout_cnn_block_two': 0.3011582559280868, 'dropout_dense_block_one': 0.37204104125430354, 'dropout_dense_block_two': 0.5798196560278501}\n",
            "accuracy=0.9809523820877075\n",
            "{'batch size': 190.0, 'dropout_cnn_block_one': 0.30425156419036503, 'dropout_cnn_block_three': 0.3639340973575998, 'dropout_cnn_block_two': 0.30116853819572054, 'dropout_dense_block_one': 0.3764778245942297, 'dropout_dense_block_two': 0.696731992786704}\n",
            "accuracy=0.9612244963645935\n",
            "{'batch size': 180.0, 'dropout_cnn_block_one': 0.32358814822443194, 'dropout_cnn_block_three': 0.4197256353608358, 'dropout_cnn_block_two': 0.3583310218045455, 'dropout_dense_block_one': 0.3852171075731597, 'dropout_dense_block_two': 0.5961560382923022}\n",
            "accuracy=0.9575963616371155\n",
            "{'batch size': 190.0, 'dropout_cnn_block_one': 0.30409051822263433, 'dropout_cnn_block_three': 0.39022707094846093, 'dropout_cnn_block_two': 0.30156038164238425, 'dropout_dense_block_one': 0.33993414035215985, 'dropout_dense_block_two': 0.5966395949094774}\n",
            "accuracy=0.960090696811676\n",
            "{'batch size': 200.0, 'dropout_cnn_block_one': 0.33576291669540465, 'dropout_cnn_block_three': 0.32837731447351337, 'dropout_cnn_block_two': 0.30201524624342924, 'dropout_dense_block_one': 0.46915362124015675, 'dropout_dense_block_two': 0.6687875854166152}\n",
            "accuracy=0.9523809552192688\n",
            "{'batch size': 170.0, 'dropout_cnn_block_one': 0.3151714067203978, 'dropout_cnn_block_three': 0.36035980106334575, 'dropout_cnn_block_two': 0.3319551084785226, 'dropout_dense_block_one': 0.5233521611925956, 'dropout_dense_block_two': 0.5728746366921106}\n",
            "accuracy=0.9591836929321289\n",
            "100%|██████████| 30/30 [14:48<00:00, 29.62s/it, best loss: -0.9809523820877075]\n"
          ],
          "name": "stdout"
        }
      ]
    }
  ]
}